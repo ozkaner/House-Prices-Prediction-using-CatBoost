{
 "cells": [
  {
   "cell_type": "markdown",
   "metadata": {},
   "source": [
    "# LIBRARIES"
   ]
  },
  {
   "cell_type": "code",
   "execution_count": 2,
   "metadata": {},
   "outputs": [],
   "source": [
    "import pandas as pd\n",
    "import numpy as np\n",
    "import matplotlib.pyplot as plt\n",
    "\n",
    "import warnings\n",
    "import preprocessing_data\n",
    "from sklearn.preprocessing import LabelEncoder\n",
    "\n",
    "\n",
    "pd.set_option('display.max_columns', None)\n",
    "warnings.filterwarnings(\"ignore\")"
   ]
  },
  {
   "cell_type": "markdown",
   "metadata": {},
   "source": [
    "# READ"
   ]
  },
  {
   "cell_type": "code",
   "execution_count": 3,
   "metadata": {},
   "outputs": [],
   "source": [
    "train_path = \"/Users/erenozkan/Desktop/Data Science Project/HousePrice/house-prices-advanced-regression-techniques/train.csv\"\n",
    "test_path = \"/Users/erenozkan/Desktop/Data Science Project/HousePrice/house-prices-advanced-regression-techniques/test.csv\"\n",
    "\n",
    "data = pd.read_csv(train_path)\n",
    "data_t = pd.read_csv(test_path)"
   ]
  },
  {
   "cell_type": "markdown",
   "metadata": {},
   "source": [
    "# PREPROCESSING"
   ]
  },
  {
   "cell_type": "code",
   "execution_count": 4,
   "metadata": {},
   "outputs": [],
   "source": [
    "drops = preprocessing_data.nan_finder(data=data)\n"
   ]
  },
  {
   "cell_type": "code",
   "execution_count": 5,
   "metadata": {},
   "outputs": [],
   "source": [
    "data = preprocessing_data.nan_dropper(data=data,drops=drops)\n",
    "test = preprocessing_data.nan_dropper(data = data_t, drops=drops)"
   ]
  },
  {
   "cell_type": "code",
   "execution_count": 6,
   "metadata": {},
   "outputs": [],
   "source": [
    "object_list = []\n",
    "object_list = preprocessing_data.catches_columns_type(data,\"object\",columns_list=object_list)\n",
    "\n",
    "int_list = []\n",
    "int_list = preprocessing_data.catches_columns_type(data,\"int64\" or \"float64\",columns_list=int_list)\n",
    "\n",
    "int_test_list = int_list[:-1]"
   ]
  },
  {
   "cell_type": "code",
   "execution_count": 7,
   "metadata": {},
   "outputs": [
    {
     "name": "stdout",
     "output_type": "stream",
     "text": [
      "Removed columns are \n",
      " ['Street', 'Utilities', 'LandSlope', 'Condition2', 'RoofMatl', 'Heating', 'CentralAir', 'Electrical', 'Functional', 'GarageCond', 'PavedDrive']\n"
     ]
    }
   ],
   "source": [
    "object_list = preprocessing_data.useless_object_catcher(data[object_list])\n"
   ]
  },
  {
   "cell_type": "code",
   "execution_count": 8,
   "metadata": {},
   "outputs": [],
   "source": [
    "object_df_train = preprocessing_data.nan_object_filler(data[object_list])\n",
    "object_df_test = preprocessing_data.nan_object_filler(test[object_list])\n"
   ]
  },
  {
   "cell_type": "code",
   "execution_count": 9,
   "metadata": {},
   "outputs": [],
   "source": [
    "object_df_train=preprocessing_data.mapping_object_values(object_df_train)\n",
    "object_df_test=preprocessing_data.mapping_object_values(object_df_test)"
   ]
  },
  {
   "cell_type": "code",
   "execution_count": 10,
   "metadata": {},
   "outputs": [],
   "source": [
    "bins = [0,1950,2000,np.inf]\n",
    "labels = [0,1,2]\n",
    "int_df = data[int_list]\n",
    "test_int_df = test[int_test_list]\n",
    "int_df[\"YearBuilt\"] = pd.cut(int_df[\"YearBuilt\"],bins=bins,labels=labels).values\n",
    "test_int_df[\"YearBuilt\"] = pd.cut(test_int_df[\"YearBuilt\"],bins=bins,labels=labels).values"
   ]
  },
  {
   "cell_type": "code",
   "execution_count": 11,
   "metadata": {},
   "outputs": [],
   "source": [
    "bins = [0,1950,2000,np.inf]\n",
    "labels = [0,1,2]\n",
    "int_df = data[int_list]\n",
    "int_df[\"YearRemodAdd\"] = pd.cut(int_df[\"YearRemodAdd\"],bins=bins,labels=labels).values\n",
    "test_int_df[\"YearRemodAdd\"] = pd.cut(test_int_df[\"YearRemodAdd\"],bins=bins,labels=labels).values"
   ]
  },
  {
   "cell_type": "code",
   "execution_count": 12,
   "metadata": {},
   "outputs": [],
   "source": [
    "le = LabelEncoder()\n",
    "int_df[\"YrSold\"] = le.fit_transform(int_df[\"YrSold\"])\n",
    "test_int_df[\"YrSold\"] = le.fit_transform(test_int_df[\"YrSold\"])\n"
   ]
  },
  {
   "cell_type": "code",
   "execution_count": 13,
   "metadata": {},
   "outputs": [],
   "source": [
    "concatenated_train = pd.concat([int_df, object_df_train],axis=1)\n",
    "concatenated_test = pd.concat([test_int_df, object_df_test],axis=1)"
   ]
  },
  {
   "cell_type": "code",
   "execution_count": 14,
   "metadata": {},
   "outputs": [],
   "source": [
    "concatenated_train.to_csv(\"./preprocessed_dataset/train.csv\",index=False)\n",
    "concatenated_test.to_csv(\"./preprocessed_dataset/test.csv\",index=False)"
   ]
  },
  {
   "cell_type": "code",
   "execution_count": null,
   "metadata": {},
   "outputs": [],
   "source": []
  }
 ],
 "metadata": {
  "kernelspec": {
   "display_name": "myenv3",
   "language": "python",
   "name": "python3"
  },
  "language_info": {
   "codemirror_mode": {
    "name": "ipython",
    "version": 3
   },
   "file_extension": ".py",
   "mimetype": "text/x-python",
   "name": "python",
   "nbconvert_exporter": "python",
   "pygments_lexer": "ipython3",
   "version": "3.10.0"
  }
 },
 "nbformat": 4,
 "nbformat_minor": 2
}
